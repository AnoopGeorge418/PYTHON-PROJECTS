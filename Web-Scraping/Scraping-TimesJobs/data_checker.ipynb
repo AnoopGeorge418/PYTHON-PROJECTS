{
 "cells": [
  {
   "cell_type": "code",
   "execution_count": 2,
   "metadata": {},
   "outputs": [],
   "source": [
    "import pandas as pd "
   ]
  },
  {
   "cell_type": "code",
   "execution_count": 3,
   "metadata": {},
   "outputs": [
    {
     "data": {
      "text/html": [
       "<div>\n",
       "<style scoped>\n",
       "    .dataframe tbody tr th:only-of-type {\n",
       "        vertical-align: middle;\n",
       "    }\n",
       "\n",
       "    .dataframe tbody tr th {\n",
       "        vertical-align: top;\n",
       "    }\n",
       "\n",
       "    .dataframe thead th {\n",
       "        text-align: right;\n",
       "    }\n",
       "</style>\n",
       "<table border=\"1\" class=\"dataframe\">\n",
       "  <thead>\n",
       "    <tr style=\"text-align: right;\">\n",
       "      <th></th>\n",
       "      <th>Company Name</th>\n",
       "      <th>Required Skills</th>\n",
       "      <th>More Info</th>\n",
       "    </tr>\n",
       "  </thead>\n",
       "  <tbody>\n",
       "    <tr>\n",
       "      <th>0</th>\n",
       "      <td>RedLotus</td>\n",
       "      <td>\\ndatascientist,statisticalmodeling,datavisual...</td>\n",
       "      <td>https://www.timesjobs.com/job-detail/data-scie...</td>\n",
       "    </tr>\n",
       "    <tr>\n",
       "      <th>1</th>\n",
       "      <td>Sigmoid</td>\n",
       "      <td>\\r\\n\\r\\nstronglearningacumen|teamplayer|datain...</td>\n",
       "      <td>https://www.timesjobs.com/job-detail/data-scie...</td>\n",
       "    </tr>\n",
       "    <tr>\n",
       "      <th>2</th>\n",
       "      <td>Cellworks</td>\n",
       "      <td>\\r\\n\\r\\nalgorithms,python,datamining,machinele...</td>\n",
       "      <td>https://www.timesjobs.com/job-detail/data-scie...</td>\n",
       "    </tr>\n",
       "  </tbody>\n",
       "</table>\n",
       "</div>"
      ],
      "text/plain": [
       "  Company Name                                    Required Skills  \\\n",
       "0     RedLotus  \\ndatascientist,statisticalmodeling,datavisual...   \n",
       "1      Sigmoid  \\r\\n\\r\\nstronglearningacumen|teamplayer|datain...   \n",
       "2    Cellworks  \\r\\n\\r\\nalgorithms,python,datamining,machinele...   \n",
       "\n",
       "                                           More Info  \n",
       "0  https://www.timesjobs.com/job-detail/data-scie...  \n",
       "1  https://www.timesjobs.com/job-detail/data-scie...  \n",
       "2  https://www.timesjobs.com/job-detail/data-scie...  "
      ]
     },
     "execution_count": 3,
     "metadata": {},
     "output_type": "execute_result"
    }
   ],
   "source": [
    "df = pd.read_csv(r'C:\\Users\\anoop\\Python\\Web-Scraping\\Scraping-Job_Website\\My-Job-List\\My-Jobs.csv')\n",
    "df"
   ]
  },
  {
   "cell_type": "code",
   "execution_count": 6,
   "metadata": {},
   "outputs": [
    {
     "data": {
      "text/html": [
       "<div>\n",
       "<style scoped>\n",
       "    .dataframe tbody tr th:only-of-type {\n",
       "        vertical-align: middle;\n",
       "    }\n",
       "\n",
       "    .dataframe tbody tr th {\n",
       "        vertical-align: top;\n",
       "    }\n",
       "\n",
       "    .dataframe thead th {\n",
       "        text-align: right;\n",
       "    }\n",
       "</style>\n",
       "<table border=\"1\" class=\"dataframe\">\n",
       "  <thead>\n",
       "    <tr style=\"text-align: right;\">\n",
       "      <th></th>\n",
       "      <th>Company Name</th>\n",
       "      <th>Required Skills</th>\n",
       "      <th>More Info</th>\n",
       "    </tr>\n",
       "  </thead>\n",
       "  <tbody>\n",
       "    <tr>\n",
       "      <th>0</th>\n",
       "      <td>RedLotus</td>\n",
       "      <td>datascientist,statisticalmodeling,datavisualiz...</td>\n",
       "      <td>https://www.timesjobs.com/job-detail/data-scie...</td>\n",
       "    </tr>\n",
       "    <tr>\n",
       "      <th>1</th>\n",
       "      <td>Sigmoid</td>\n",
       "      <td>stronglearningacumen|teamplayer|datainterpreta...</td>\n",
       "      <td>https://www.timesjobs.com/job-detail/data-scie...</td>\n",
       "    </tr>\n",
       "    <tr>\n",
       "      <th>2</th>\n",
       "      <td>Cellworks</td>\n",
       "      <td>algorithms,python,datamining,machinelearning,n...</td>\n",
       "      <td>https://www.timesjobs.com/job-detail/data-scie...</td>\n",
       "    </tr>\n",
       "  </tbody>\n",
       "</table>\n",
       "</div>"
      ],
      "text/plain": [
       "  Company Name                                    Required Skills  \\\n",
       "0     RedLotus  datascientist,statisticalmodeling,datavisualiz...   \n",
       "1      Sigmoid  stronglearningacumen|teamplayer|datainterpreta...   \n",
       "2    Cellworks  algorithms,python,datamining,machinelearning,n...   \n",
       "\n",
       "                                           More Info  \n",
       "0  https://www.timesjobs.com/job-detail/data-scie...  \n",
       "1  https://www.timesjobs.com/job-detail/data-scie...  \n",
       "2  https://www.timesjobs.com/job-detail/data-scie...  "
      ]
     },
     "execution_count": 6,
     "metadata": {},
     "output_type": "execute_result"
    }
   ],
   "source": [
    "df['Required Skills'] = df['Required Skills'].str.replace(r'\\r\\n\\r\\n|\\r\\n|\\n', '', regex=True)\n",
    "df"
   ]
  },
  {
   "cell_type": "code",
   "execution_count": 9,
   "metadata": {},
   "outputs": [],
   "source": [
    "df.to_csv('cleaned_data.csv')"
   ]
  },
  {
   "cell_type": "code",
   "execution_count": 10,
   "metadata": {},
   "outputs": [
    {
     "data": {
      "text/html": [
       "<div>\n",
       "<style scoped>\n",
       "    .dataframe tbody tr th:only-of-type {\n",
       "        vertical-align: middle;\n",
       "    }\n",
       "\n",
       "    .dataframe tbody tr th {\n",
       "        vertical-align: top;\n",
       "    }\n",
       "\n",
       "    .dataframe thead th {\n",
       "        text-align: right;\n",
       "    }\n",
       "</style>\n",
       "<table border=\"1\" class=\"dataframe\">\n",
       "  <thead>\n",
       "    <tr style=\"text-align: right;\">\n",
       "      <th></th>\n",
       "      <th>Unnamed: 0</th>\n",
       "      <th>Company Name</th>\n",
       "      <th>Required Skills</th>\n",
       "      <th>More Info</th>\n",
       "    </tr>\n",
       "  </thead>\n",
       "  <tbody>\n",
       "    <tr>\n",
       "      <th>0</th>\n",
       "      <td>0</td>\n",
       "      <td>RedLotus</td>\n",
       "      <td>datascientist,statisticalmodeling,datavisualiz...</td>\n",
       "      <td>https://www.timesjobs.com/job-detail/data-scie...</td>\n",
       "    </tr>\n",
       "    <tr>\n",
       "      <th>1</th>\n",
       "      <td>1</td>\n",
       "      <td>Sigmoid</td>\n",
       "      <td>stronglearningacumen|teamplayer|datainterpreta...</td>\n",
       "      <td>https://www.timesjobs.com/job-detail/data-scie...</td>\n",
       "    </tr>\n",
       "    <tr>\n",
       "      <th>2</th>\n",
       "      <td>2</td>\n",
       "      <td>Cellworks</td>\n",
       "      <td>algorithms,python,datamining,machinelearning,n...</td>\n",
       "      <td>https://www.timesjobs.com/job-detail/data-scie...</td>\n",
       "    </tr>\n",
       "  </tbody>\n",
       "</table>\n",
       "</div>"
      ],
      "text/plain": [
       "   Unnamed: 0 Company Name                                    Required Skills  \\\n",
       "0           0     RedLotus  datascientist,statisticalmodeling,datavisualiz...   \n",
       "1           1      Sigmoid  stronglearningacumen|teamplayer|datainterpreta...   \n",
       "2           2    Cellworks  algorithms,python,datamining,machinelearning,n...   \n",
       "\n",
       "                                           More Info  \n",
       "0  https://www.timesjobs.com/job-detail/data-scie...  \n",
       "1  https://www.timesjobs.com/job-detail/data-scie...  \n",
       "2  https://www.timesjobs.com/job-detail/data-scie...  "
      ]
     },
     "execution_count": 10,
     "metadata": {},
     "output_type": "execute_result"
    }
   ],
   "source": [
    "pd.read_csv(r'C:\\Users\\anoop\\Python\\Web-Scraping\\Scraping-Job_Website\\cleaned_data.csv')"
   ]
  }
 ],
 "metadata": {
  "kernelspec": {
   "display_name": "Python 3",
   "language": "python",
   "name": "python3"
  },
  "language_info": {
   "codemirror_mode": {
    "name": "ipython",
    "version": 3
   },
   "file_extension": ".py",
   "mimetype": "text/x-python",
   "name": "python",
   "nbconvert_exporter": "python",
   "pygments_lexer": "ipython3",
   "version": "3.12.1"
  }
 },
 "nbformat": 4,
 "nbformat_minor": 2
}
